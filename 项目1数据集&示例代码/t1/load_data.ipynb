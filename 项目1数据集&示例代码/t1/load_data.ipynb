{
 "cells": [
  {
   "cell_type": "code",
   "execution_count": 1,
   "metadata": {
    "collapsed": true
   },
   "outputs": [],
   "source": [
    "import numpy as np"
   ]
  },
  {
   "cell_type": "code",
   "execution_count": 2,
   "metadata": {},
   "outputs": [
    {
     "data": {
      "text/plain": "(26304, 321)"
     },
     "execution_count": 2,
     "metadata": {},
     "output_type": "execute_result"
    }
   ],
   "source": [
    "electricity_data = np.loadtxt('electricity.txt', delimiter=',')\n",
    "electricity_data.shape"
   ]
  },
  {
   "cell_type": "code",
   "execution_count": 3,
   "metadata": {},
   "outputs": [
    {
     "data": {
      "text/plain": "(572, 500)"
     },
     "execution_count": 3,
     "metadata": {},
     "output_type": "execute_result"
    }
   ],
   "source": [
    "commodity_data = np.loadtxt('commodity.txt', delimiter=',')\n",
    "commodity_data.shape"
   ]
  },
  {
   "cell_type": "code",
   "execution_count": 4,
   "metadata": {},
   "outputs": [
    {
     "data": {
      "text/plain": "(12672, 228)"
     },
     "execution_count": 4,
     "metadata": {},
     "output_type": "execute_result"
    }
   ],
   "source": [
    "traffic_data = np.loadtxt('traffic.txt', delimiter=',')\n",
    "traffic_data.shape"
   ]
  },
  {
   "cell_type": "code",
   "execution_count": 5,
   "metadata": {},
   "outputs": [
    {
     "data": {
      "text/plain": "(228, 228)"
     },
     "execution_count": 5,
     "metadata": {},
     "output_type": "execute_result"
    }
   ],
   "source": [
    "W = np.loadtxt('W.csv', delimiter=',')\n",
    "W.shape"
   ]
  },
  {
   "cell_type": "code",
   "execution_count": 6,
   "metadata": {
    "collapsed": true
   },
   "outputs": [],
   "source": [
    "# 选择数据\n",
    "origin_data = electricity_data.copy()\n",
    "# origin_data = commodity_data.copy()\n",
    "# origin_data = traffic_data.copy()\n",
    "data = {\"electricity_data\":electricity_data.copy(),\n",
    "        \"commodity_data\":commodity_data.copy(),\n",
    "        \"traffic_data\":traffic_data.copy()}\n"
   ]
  },
  {
   "cell_type": "code",
   "execution_count": 7,
   "outputs": [
    {
     "name": "stdout",
     "output_type": "stream",
     "text": [
      "electricity_data\n",
      "线性回归: \n",
      "训练执行时间0.006998777389526367s\n",
      "0.037085485784281176\n",
      "预测执行时间0.001001596450805664s\n",
      "\n",
      "\n",
      "多项式回归: \n",
      "训练执行时间4.128999948501587s\n",
      "0.028380588585375302\n",
      "预测执行时间0.0030040740966796875s\n",
      "degree取值:2\n",
      "\n",
      "\n",
      "岭回归: \n",
      "训练执行时间1.0440003871917725s\n",
      "0.03707853006885294\n",
      "预测执行时间0.0009989738464355469s\n",
      "------------------------------------------------------\n",
      "\n",
      "commodity_data\n",
      "线性回归: \n",
      "训练执行时间0.0010030269622802734s\n",
      "0.025248410284627463\n",
      "预测执行时间0.0009980201721191406s\n",
      "\n",
      "\n",
      "多项式回归: \n",
      "训练执行时间0.10499954223632812s\n",
      "0.02430524546952156\n",
      "预测执行时间0.0009999275207519531s\n",
      "degree取值:2\n",
      "\n",
      "\n",
      "岭回归: \n",
      "训练执行时间0.1550002098083496s\n",
      "0.025857216542075786\n",
      "预测执行时间0.0009984970092773438s\n",
      "------------------------------------------------------\n",
      "\n",
      "traffic_data\n",
      "线性回归: \n",
      "训练执行时间0.0009648799896240234s\n",
      "0.007440934172417665\n",
      "预测执行时间0.0009984970092773438s\n",
      "\n",
      "\n",
      "多项式回归: \n",
      "训练执行时间0.9740002155303955s\n",
      "0.007536635770553508\n",
      "预测执行时间0.004001140594482422s\n",
      "degree取值:3\n",
      "\n",
      "\n",
      "岭回归: \n",
      "训练执行时间0.4120001792907715s\n",
      "0.0074427904723953645\n",
      "预测执行时间0.0s\n",
      "------------------------------------------------------\n",
      "\n"
     ]
    }
   ],
   "source": [
    "from sklearn.model_selection import train_test_split\n",
    "for key, origin_data in data.items():\n",
    "    print(key)\n",
    "    # 对数据进行归一化\n",
    "    for i in range(origin_data.shape[1]):\n",
    "        min_val = origin_data[:,i].min()\n",
    "        max_val = origin_data[:,i].max()\n",
    "        dis_val = max_val - min_val\n",
    "        for j in range(origin_data.shape[0]):\n",
    "            origin_data[j,i]=(origin_data[j,i] - min_val) / dis_val\n",
    "\n",
    "    # 数据预处理\n",
    "    # 定义数据段的长度\n",
    "    width = 5\n",
    "    # 1. 求一个时间段数据的均值\n",
    "    avg_data = np.mean(origin_data, axis=1)\n",
    "    feature = []\n",
    "    label = []\n",
    "    for t in range(0, avg_data.shape[0] - width):\n",
    "        cur_data = avg_data[t:t+width-1]\n",
    "        feature.append(np.append(cur_data, [cur_data.min(), cur_data.max()]))\n",
    "        label.append(avg_data[t+width])\n",
    "    feature = np.array(feature)\n",
    "    label = np.array(label)\n",
    "\n",
    "    x_train, x_test, y_train, y_test = train_test_split(feature, label, train_size=0.8)\n",
    "\n",
    "    import time\n",
    "    time.time()\n",
    "    # 使用线性回归训练模型\n",
    "    from LinearRegression import LinearRegression\n",
    "    model = LinearRegression()\n",
    "    start_time = time.time()\n",
    "    model.fit_normal(x_train, y_train)\n",
    "    print(\"线性回归: \")\n",
    "    print(\"训练执行时间\" + str(time.time() - start_time) + \"s\")\n",
    "    start_time = time.time()\n",
    "    print(model.score(x_test,y_test))\n",
    "    print(\"预测执行时间\" + str(time.time() - start_time) + \"s\")\n",
    "    print(\"\\n\")\n",
    "\n",
    "    # 使用多项式回归训练模型\n",
    "    from PolyRegression import PolyRegression\n",
    "    model = PolyRegression()\n",
    "    start_time = time.time()\n",
    "    model.fit_cv(x_train, y_train, degrees=[1,2,3,4,5,6])\n",
    "    print(\"多项式回归: \")\n",
    "    print(\"训练执行时间\" + str(time.time() - start_time) + \"s\")\n",
    "    start_time = time.time()\n",
    "    print(model.score(x_test,y_test))\n",
    "    print(\"预测执行时间\" + str(time.time() - start_time) + \"s\")\n",
    "    print(\"degree取值:\" + str(model.degree))\n",
    "    print(\"\\n\")\n",
    "\n",
    "    # 岭回归\n",
    "    from RidgeRegression import  RidgeRegression\n",
    "    model = RidgeRegression()\n",
    "    start_time = time.time()\n",
    "    model.fit_cv(x_train, y_train, alphas=np.logspace(-5,2,200))\n",
    "    print(\"岭回归: \")\n",
    "    print(\"训练执行时间\" + str(time.time() - start_time) + \"s\")\n",
    "    start_time = time.time()\n",
    "    print(model.score(x_test,y_test))\n",
    "    print(\"预测执行时间\" + str(time.time() - start_time) + \"s\")\n",
    "    print(\"------------------------------------------------------\\n\")"
   ],
   "metadata": {
    "collapsed": false,
    "pycharm": {
     "name": "#%%\n"
    }
   }
  },
  {
   "cell_type": "code",
   "execution_count": 8,
   "outputs": [],
   "source": [
    "# from sklearn.linear_model import RidgeCV\n",
    "# model = RidgeCV(alphas=np.logspace(-5,2,200),normalize=True,scoring='neg_root_mean_squared_error',cv=10)\n",
    "# model.fit(feature, label)\n",
    "# model.score(feature, label)\n",
    "# from sklearn.metrics import mean_squared_error\n",
    "# np.sqrt(mean_squared_error(label, model.predict(feature)))"
   ],
   "metadata": {
    "collapsed": false,
    "pycharm": {
     "name": "#%%\n"
    }
   }
  }
 ],
 "metadata": {
  "kernelspec": {
   "display_name": "Python 3",
   "language": "python",
   "name": "python3"
  },
  "language_info": {
   "codemirror_mode": {
    "name": "ipython",
    "version": 3
   },
   "file_extension": ".py",
   "mimetype": "text/x-python",
   "name": "python",
   "nbconvert_exporter": "python",
   "pygments_lexer": "ipython3",
   "version": "3.6.3"
  }
 },
 "nbformat": 4,
 "nbformat_minor": 2
}